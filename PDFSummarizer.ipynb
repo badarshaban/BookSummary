{
 "cells": [
  {
   "cell_type": "code",
   "execution_count": 1,
   "metadata": {
    "id": "gMgR1njymD8d"
   },
   "outputs": [],
   "source": [
    "import os\n",
    "from langchain.chains.summarize import load_summarize_chain\n",
    "from langchain.document_loaders import PyPDFLoader\n",
    "from langchain.llms import OpenAI\n",
    "from langchain import PromptTemplate\n",
    "import time\n",
    "from fpdf import FPDF\n",
    "\n",
    "os.environ[\"OPENAI_API_KEY\"] = os.getenv(\"OPENAI_API_KEY\")\n",
    "llm = OpenAI(temperature=0.5)"
   ]
  },
  {
   "cell_type": "code",
   "execution_count": 5,
   "metadata": {
    "id": "sHEA4UF_qix4"
   },
   "outputs": [],
   "source": [
    "map_custom_prompt='''\n",
    "Your job is to create a clear and brief summary of the given text. The summary should convey meaningful information.\n",
    "Text:`{text}`\n",
    "'''\n",
    "map_prompt_template = PromptTemplate(\n",
    "    input_variables = ['text'],\n",
    "    template=map_custom_prompt\n",
    ")\n",
    "combine_custom_prompt='''\n",
    "Generate a summary with the following guidelines:\n",
    "\n",
    "- Start with a clear title representing the main subject.\n",
    "- Provide an introductory paragraph to give an overview.\n",
    "- Use bullet points for key points.\n",
    "- End with a summary paragraph recapping the main ideas.\n",
    "\n",
    "Keep the response concise, with a maximum length of 20 pages. Ensure that your response follows the above instructions.\n",
    "\n",
    "Text:`{text}`\n",
    "'''\n",
    "combine_prompt_template = PromptTemplate(\n",
    "    template=combine_custom_prompt, \n",
    "    input_variables=['text']\n",
    ")"
   ]
  },
  {
   "cell_type": "code",
   "execution_count": 6,
   "metadata": {},
   "outputs": [
    {
     "name": "stdout",
     "output_type": "stream",
     "text": [
      "PDF Splitter\n",
      "There are:  767\n",
      "Execution Time:  4.88 seconds\n"
     ]
    }
   ],
   "source": [
    "def pdf_splitter(pdf_file_path):\n",
    "    start_time = time.time()\n",
    "    loader = PyPDFLoader(pdf_file_path)\n",
    "    docs = loader.load_and_split()\n",
    "    print(\"There are: \",len(docs))\n",
    "    end_time = time.time()\n",
    "    print(\"Execution Time: \", str(round(end_time - start_time,2))+\" seconds\")\n",
    "    return docs\n",
    "    \n",
    "pdf_file_path = \"crime-and-punishment.pdf\"\n",
    "print(\"PDF Splitter\")\n",
    "docs_to_summarize = pdf_splitter(pdf_file_path)"
   ]
  },
  {
   "cell_type": "code",
   "execution_count": 7,
   "metadata": {},
   "outputs": [
    {
     "name": "stdout",
     "output_type": "stream",
     "text": [
      "Book Summary\n",
      "Execution Time:  300.69 seconds\n",
      "\n",
      "\n",
      "Title: Redemption Through Reflection in Crime and Punishment \n",
      "\n",
      "Introduction: Crime and Punishment by Fyodor Dostoevsky follows the story of Rodion Romanovitch Raskolnikov, a university student who commits a crime and is later sentenced to prison. After reflecting on his life and choices, he embarks on a journey of redemption and spiritual transformation. \n",
      "\n",
      "Bullet Points: \n",
      "- Raskolnikov confesses to killing an old pawnbroker woman and her sister with an axe and robbing them, and is sentenced to eight years of penal servitude. \n",
      "- He is visited by Sonia, who brings him relief from the outside world and provides comfort.\n",
      "- He reflects on Sonia's plight and the three potential outcomes of her life. \n",
      "- While in prison, Raskolnikov struggles with his own inner turmoil and his belief in God.\n",
      "- His mother dies, and he is overwhelmed and ashamed by his situation.\n",
      "- He is eventually released from prison and begins a new life of regeneration and initiation.\n",
      "\n",
      "Conclusion: Through his reflections and conversations with those who visit him in prison, Raskolnikov is able to come to terms with his crime and begin a journey\n",
      "\n"
     ]
    }
   ],
   "source": [
    "def summarize_pdf(docs):\n",
    "    start_time = time.time()\n",
    "    summary_chain = load_summarize_chain(\n",
    "        llm=llm,\n",
    "        chain_type='map_reduce',\n",
    "        map_prompt=map_prompt_template,\n",
    "        combine_prompt=combine_prompt_template,\n",
    "        verbose=False\n",
    "    )\n",
    "    summary = summary_chain.run(docs)\n",
    "    end_time = time.time()\n",
    "    print(\"Execution Time: \", str(round(end_time - start_time,2))+\" seconds\")\n",
    "    return summary\n",
    "\n",
    "print(\"Book Summary\")\n",
    "summarize = summarize_pdf(docs_to_summarize[0:])\n",
    "print(f\"\\n{summarize}\\n\")"
   ]
  },
  {
   "cell_type": "code",
   "execution_count": 53,
   "metadata": {},
   "outputs": [
    {
     "name": "stdout",
     "output_type": "stream",
     "text": [
      "PDF file 'Summary_crime-and-punishment.pdf' has been created.\n"
     ]
    }
   ],
   "source": [
    "text = pdf_file_path\n",
    "text= text.split(\"/\")\n",
    "text1 = text[-1].split('.pdf')[0]\n",
    "text1 = \"Summary_\"+text1+\".pdf\"\n",
    "text[-1] = text1\n",
    "output_file = \"/\".join(text)\n",
    "\n",
    "# Create PDF\n",
    "class PDF(FPDF):\n",
    "    def header(self):\n",
    "        self.set_font('Arial', 'B', 12)\n",
    "        self.cell(0, 10, 'Summary', 0, 1, 'C')\n",
    "\n",
    "    def chapter_title(self, title):\n",
    "        self.set_font('Arial', 'B', 12)\n",
    "        self.cell(0, 10, title, 0, 1, 'L')\n",
    "        self.ln(10)\n",
    "\n",
    "    def chapter_body(self, body):\n",
    "        self.set_font('Arial', '', 12)\n",
    "        \n",
    "        # Use utf-8 encoding to handle special characters\n",
    "        body = body.encode('latin-1', 'replace').decode('latin-1')\n",
    "        \n",
    "        self.multi_cell(0, 10, body)\n",
    "        self.ln()\n",
    "\n",
    "\n",
    "pdf = PDF()\n",
    "pdf.add_page()\n",
    "\n",
    "# Split the text into paragraphs and add to the PDF\n",
    "paragraphs = [line.strip() for line in summarize.replace('\\n\\n','\\n').strip().split('\\n')]\n",
    "for paragraph in paragraphs:\n",
    "    pdf.chapter_body(paragraph)\n",
    "\n",
    "# Save the PDF\n",
    "\n",
    "pdf.output(output_file)\n",
    "\n",
    "print(f\"PDF file '{output_file}' has been created.\")\n"
   ]
  }
 ],
 "metadata": {
  "colab": {
   "authorship_tag": "ABX9TyPUfLVhYfgtLK49w9kl4hbn",
   "include_colab_link": true,
   "provenance": []
  },
  "kernelspec": {
   "display_name": "Python 3 (ipykernel)",
   "language": "python",
   "name": "python3"
  },
  "language_info": {
   "codemirror_mode": {
    "name": "ipython",
    "version": 3
   },
   "file_extension": ".py",
   "mimetype": "text/x-python",
   "name": "python",
   "nbconvert_exporter": "python",
   "pygments_lexer": "ipython3",
   "version": "3.11.3"
  }
 },
 "nbformat": 4,
 "nbformat_minor": 4
}
